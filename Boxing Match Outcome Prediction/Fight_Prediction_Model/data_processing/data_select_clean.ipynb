{
 "cells": [
  {
   "cell_type": "code",
   "execution_count": 26,
   "id": "8e070b81-479f-4b47-ad3b-5d4df34d3278",
   "metadata": {},
   "outputs": [],
   "source": [
    "import numpy as np\n",
    "from sklearn.model_selection import train_test_split\n",
    "from sklearn.linear_model import LinearRegression\n",
    "from sklearn.preprocessing import StandardScaler, PolynomialFeatures\n",
    "from sklearn.model_selection import train_test_split\n",
    "from sklearn.metrics import mean_squared_error\n",
    "import matplotlib.pyplot as plt\n",
    "import pandas as pd"
   ]
  },
  {
   "cell_type": "code",
   "execution_count": 27,
   "id": "ad584d31-c412-4d9c-8f08-2f56dde97f25",
   "metadata": {},
   "outputs": [],
   "source": [
    "dataset = pd.read_csv(\"dataset.csv\")\n",
    "punchingstats = pd.read_csv(\"punchingstats.csv\")"
   ]
  },
  {
   "cell_type": "code",
   "execution_count": 28,
   "id": "74015b9f-2a1f-415a-9187-cc43bcb9e2e4",
   "metadata": {},
   "outputs": [],
   "source": [
    "# Merging:\n",
    "\n",
    "# Cleaning the 'name' column in both datasets for consistency\n",
    "dataset['name'] = dataset['name'].str.strip().str.lower()\n",
    "punchingstats['name'] = punchingstats['name'].str.strip().str.lower()\n",
    "\n",
    "# Merging the datasets on the 'name' column\n",
    "combined_data = pd.merge(dataset, punchingstats, on='name', how='inner')\n",
    "\n",
    "# Set the maximum number of columns to display\n",
    "pd.set_option('display.max_columns', None)\n",
    "print(combined_data.head())"
   ]
  },
  {
   "cell_type": "code",
   "execution_count": 29,
   "id": "ace2a490-795d-42d7-954f-097756b97177",
   "metadata": {},
   "outputs": [
    {
     "name": "stderr",
     "output_type": "stream",
     "text": [
      "/var/folders/m1/f0cqbqqj5sdc4d7yltz_cjbm0000gn/T/ipykernel_16800/1088347686.py:16: SettingWithCopyWarning: \n",
      "A value is trying to be set on a copy of a slice from a DataFrame.\n",
      "Try using .loc[row_indexer,col_indexer] = value instead\n",
      "\n",
      "See the caveats in the documentation: https://pandas.pydata.org/pandas-docs/stable/user_guide/indexing.html#returning-a-view-versus-a-copy\n",
      "  selected_data['sex_x'] = selected_data['sex_x'].map({'male': 1, 'female': 0})\n",
      "/var/folders/m1/f0cqbqqj5sdc4d7yltz_cjbm0000gn/T/ipykernel_16800/1088347686.py:17: SettingWithCopyWarning: \n",
      "A value is trying to be set on a copy of a slice from a DataFrame.\n",
      "Try using .loc[row_indexer,col_indexer] = value instead\n",
      "\n",
      "See the caveats in the documentation: https://pandas.pydata.org/pandas-docs/stable/user_guide/indexing.html#returning-a-view-versus-a-copy\n",
      "  selected_data['clean_outcome'] = selected_data['clean_outcome'].map({'win': 1, 'loss': 0})\n"
     ]
    }
   ],
   "source": [
    "# Select features and clean\n",
    "\n",
    "# List of columns to keep from the combined dataset\n",
    "selected_columns = ['name', 'opposition', 'clean_outcome', 'opp_draw', 'opp_last6', 'opp_loss', 'opp_weight', 'opp_win', 'sex_x', 'Draw', 'Loss KO', 'Loss Other', 'Win KO', \n",
    "                    'Win Other', 'fight_count', 'avgpts', 'avgptsagainst', 'KO ratio', 'KnockedOut ratio', 'weightratio', 'age', 'height', 'rating1',\n",
    "                    'rating2', 'bmi', 'Jab accuracy_x', 'Power punch accuracy_x', 'Total punch accuracy_x',\n",
    "                    'Avg Jabs landed_x', 'Avg Power punches landed_x', 'Avg Total punches landed_x', \n",
    "                    '% of Power punches landed against_x', '% of Jabs landed against_x', '% of Total punches landed against_x',\n",
    "                    'Avg Jabs landed against_x', 'Avg Total punches landed against_x', 'last6', 'wins', 'losses',\n",
    "                    'draws', 'average_weight']  \n",
    "\n",
    "# Selecting these columns from the combined dataset\n",
    "selected_data = combined_data[selected_columns]\n",
    "\n",
    "# Convert to numerical\n",
    "selected_data['sex_x'] = selected_data['sex_x'].map({'male': 1, 'female': 0})\n",
    "selected_data['clean_outcome'] = selected_data['clean_outcome'].map({'win': 1, 'loss': 0})\n",
    "\n",
    "# One hot coding\n",
    "final_data = pd.get_dummies(selected_data, columns=['name', 'opposition'])\n",
    "\n",
    "pd.set_option('display.max_columns', None)\n",
    "print(final_data.head())"
   ]
  },
  {
   "cell_type": "code",
   "execution_count": 30,
   "id": "f67a11a9-b606-4be9-89b6-78f2e76547c0",
   "metadata": {},
   "outputs": [],
   "source": [
    "X = final_data.drop('clean_outcome', axis=1)  # features (drop the target variable)\n",
    "Y = final_data['clean_outcome']  # target variable\n",
    "\n",
    "\n",
    "# Get 60% of the dataset as the training set. Put the remaining 40% in temporary variables: x_ and y_.\n",
    "x_train, x_, y_train, y_ = train_test_split(X, Y, test_size=0.40, random_state=1)\n",
    "\n",
    "# Split the 40% subset above into two: one half for cross validation and the other for the test set\n",
    "x_cv, x_test, y_cv, y_test = train_test_split(x_, y_, test_size=0.50, random_state=1)\n",
    "\n",
    "# Delete temporary variables\n",
    "del x_, y_"
   ]
  }
 ],
 "metadata": {
  "kernelspec": {
   "display_name": "Python 3 (ipykernel)",
   "language": "python",
   "name": "python3"
  },
  "language_info": {
   "codemirror_mode": {
    "name": "ipython",
    "version": 3
   },
   "file_extension": ".py",
   "mimetype": "text/x-python",
   "name": "python",
   "nbconvert_exporter": "python",
   "pygments_lexer": "ipython3",
   "version": "3.9.12"
  }
 },
 "nbformat": 4,
 "nbformat_minor": 5
}
