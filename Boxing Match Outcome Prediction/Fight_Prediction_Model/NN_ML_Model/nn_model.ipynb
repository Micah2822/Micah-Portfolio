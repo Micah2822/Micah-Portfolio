{
 "cells": [
  {
   "cell_type": "code",
   "execution_count": 2,
   "id": "8900cda0-e2bf-41e1-8a62-62a74857145c",
   "metadata": {},
   "outputs": [
    {
     "ename": "ModuleNotFoundError",
     "evalue": "No module named 'dataprocessing'",
     "output_type": "error",
     "traceback": [
      "\u001b[0;31m---------------------------------------------------------------------------\u001b[0m",
      "\u001b[0;31mModuleNotFoundError\u001b[0m                       Traceback (most recent call last)",
      "Input \u001b[0;32mIn [2]\u001b[0m, in \u001b[0;36m<cell line: 6>\u001b[0;34m()\u001b[0m\n\u001b[1;32m      4\u001b[0m \u001b[38;5;28;01mfrom\u001b[39;00m \u001b[38;5;21;01mtensorflow\u001b[39;00m\u001b[38;5;21;01m.\u001b[39;00m\u001b[38;5;21;01mkeras\u001b[39;00m\u001b[38;5;21;01m.\u001b[39;00m\u001b[38;5;21;01mregularizers\u001b[39;00m \u001b[38;5;28;01mimport\u001b[39;00m l2\n\u001b[1;32m      5\u001b[0m \u001b[38;5;66;03m# from tensorflow.keras import SparseCategoricalCrossentropy\u001b[39;00m\n\u001b[0;32m----> 6\u001b[0m \u001b[38;5;28;01mfrom\u001b[39;00m \u001b[38;5;21;01mdataprocessing\u001b[39;00m \u001b[38;5;28;01mimport\u001b[39;00m x_train, y_cv, y_test, y_train, final_data\n",
      "\u001b[0;31mModuleNotFoundError\u001b[0m: No module named 'dataprocessing'"
     ]
    }
   ],
   "source": [
    "import tensorflow as tf\n",
    "from tensorflow.keras.models import Sequential\n",
    "from tensorflow.keras.layers import Dense\n",
    "from tensorflow.keras.regularizers import l2\n",
    "# from tensorflow.keras import SparseCategoricalCrossentropy\n",
    "from dataprocessing import x_train, y_cv, y_test, y_train, final_data"
   ]
  },
  {
   "cell_type": "code",
   "execution_count": null,
   "id": "8bdf5514-cffe-4370-be04-ca0006ae7cab",
   "metadata": {},
   "outputs": [],
   "source": [
    "# Number of input features\n",
    "n_features = x_train.shape[1]\n",
    "\n",
    "# Create model\n",
    "model = Sequential([\n",
    "    Dense(units=20,  input_dim=n_features, activation='relu'),\n",
    "    Dense(units=10, activation='relu'),\n",
    "    Dense(units=1, activation='sigmoid')\n",
    "])\n",
    "\n",
    "\n",
    "# Compile model\n",
    "model.compile(loss='binary_crossentropy', optimizer='adam', metrics=['accuracy'])\n",
    "\n",
    "# model.compile(loss=SparseCategoricalCrossentropy() )\n",
    "# model.compile(loss=SparseCategoricalCrossentropy(from_logits=True), optimizer=tf.keras.optimizers.Adam(learning_rate=0.01))\n",
    "\n",
    "# Step 3: Train data to minimise cost function:\n",
    "model.fit(x_train, y_train, epochs=100)\n",
    "\n",
    "# Summary of the model\n",
    "model.summary()\n",
    "\n",
    "\n",
    "def predict_winner(name1, name2, trained_model, data):\n",
    "    # Preprocess the names (if needed)\n",
    "    name1_processed = preprocess_name(name1)\n",
    "    name2_processed = preprocess_name(name2)\n",
    "\n",
    "    # Retrieve fighter stats from the dataset\n",
    "    fighter1_stats = get_fighter_stats(name1_processed, data)\n",
    "    fighter2_stats = get_fighter_stats(name2_processed, data)\n",
    "\n",
    "    # Combine stats into a single feature vector  - ie get the features from dataset instead of typing it out\n",
    "    matchup_features = combine_stats(fighter1_stats, fighter2_stats)\n",
    "\n",
    "    # Predict the outcome\n",
    "    prediction = trained_model.predict([matchup_features])\n",
    "\n",
    "    # Interpret the result\n",
    "    winner = name1 if prediction >= 0.5 else name2\n",
    "    return winner\n",
    "\n",
    "# Example usage\n",
    "winner = predict_winner(\"Fighter A\", \"Fighter B\", model, final_data\n",
    "                       )\n",
    "print(\"Predicted winner:\", winner)\n"
   ]
  },
  {
   "cell_type": "code",
   "execution_count": null,
   "id": "245465e6-7820-48bf-82b4-c3e2e3c523a1",
   "metadata": {},
   "outputs": [],
   "source": []
  }
 ],
 "metadata": {
  "kernelspec": {
   "display_name": "Python 3 (ipykernel)",
   "language": "python",
   "name": "python3"
  },
  "language_info": {
   "codemirror_mode": {
    "name": "ipython",
    "version": 3
   },
   "file_extension": ".py",
   "mimetype": "text/x-python",
   "name": "python",
   "nbconvert_exporter": "python",
   "pygments_lexer": "ipython3",
   "version": "3.9.12"
  }
 },
 "nbformat": 4,
 "nbformat_minor": 5
}
